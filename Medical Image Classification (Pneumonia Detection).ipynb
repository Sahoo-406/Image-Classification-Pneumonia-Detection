{
 "cells": [
  {
   "cell_type": "markdown",
   "id": "4037a250",
   "metadata": {},
   "source": [
    "# Pneumonia Classifier"
   ]
  },
  {
   "cell_type": "markdown",
   "id": "fc817e49",
   "metadata": {},
   "source": [
    "## Importing Required Libraries"
   ]
  },
  {
   "cell_type": "code",
   "execution_count": 26,
   "id": "e11f2dff",
   "metadata": {},
   "outputs": [],
   "source": [
    "import os\n",
    "import cv2\n",
    "import numpy as np\n",
    "import matplotlib.pyplot as plt\n",
    "from sklearn.model_selection import train_test_split, GridSearchCV\n",
    "from sklearn.decomposition import PCA\n",
    "from sklearn.ensemble import RandomForestClassifier\n",
    "from sklearn.metrics import accuracy_score, confusion_matrix, classification_report\n",
    "import joblib\n",
    "import pickle\n"
   ]
  },
  {
   "cell_type": "markdown",
   "id": "9d0664d7",
   "metadata": {},
   "source": [
    "## Data Preprocessing"
   ]
  },
  {
   "cell_type": "code",
   "execution_count": 27,
   "id": "53b7478f",
   "metadata": {},
   "outputs": [],
   "source": [
    "def load_data(healthy_path, pneumonia_path):\n",
    "    images = []\n",
    "    labels = []\n",
    "    valid_extensions = ['.jpg', '.jpeg', '.png']\n",
    "\n",
    "    # Load healthy images\n",
    "    for img in os.listdir('C:\\\\Users\\\\hp\\\\Desktop\\\\Data Analysis\\\\Project 2\\\\Dataset\\\\healthy chest x ray images'):\n",
    "        if any(img.lower().endswith(ext) for ext in valid_extensions):\n",
    "            try:\n",
    "                img_array = cv2.imread(os.path.join('C:\\\\Users\\\\hp\\\\Desktop\\\\Data Analysis\\\\Project 2\\\\Dataset\\\\healthy chest x ray images', img), cv2.IMREAD_GRAYSCALE)\n",
    "                resized_img = cv2.resize(img_array, (150, 150))\n",
    "                images.append(resized_img)\n",
    "                labels.append(0)  # Label 0 for healthy\n",
    "            except Exception as e:\n",
    "                print(f\"Failed to process {img}: {e}\")\n",
    "\n",
    "    # Load pneumonia images\n",
    "    for img in os.listdir('C:\\\\Users\\\\hp\\\\Desktop\\\\Data Analysis\\\\Project 2\\\\Dataset\\\\pneumonia x ray images'):\n",
    "        if any(img.lower().endswith(ext) for ext in valid_extensions):\n",
    "            try:\n",
    "                img_array = cv2.imread(os.path.join('C:\\\\Users\\\\hp\\\\Desktop\\\\Data Analysis\\\\Project 2\\\\Dataset\\\\pneumonia x ray images', img), cv2.IMREAD_GRAYSCALE)\n",
    "                resized_img = cv2.resize(img_array, (150, 150))\n",
    "                images.append(resized_img)\n",
    "                labels.append(1)  # Label 1 for pneumonia\n",
    "            except Exception as e:\n",
    "                print(f\"Failed to process {img}: {e}\")\n",
    "\n",
    "    return np.array(images), np.array(labels)\n",
    "\n",
    "healthy_path = r'C:\\\\Users\\\\hp\\\\Desktop\\\\Data Analysis\\\\Project 2\\\\Dataset\\\\healthy chest x ray images'\n",
    "pneumonia_path = r'C:\\\\Users\\\\hp\\\\Desktop\\\\Data Analysis\\\\Project 2\\\\Dataset\\\\pneumonia x ray images'\n",
    "\n",
    "images, labels = load_data(healthy_path, pneumonia_path)\n",
    "\n",
    "# Normalize the images\n",
    "images = images / 255.0"
   ]
  },
  {
   "cell_type": "markdown",
   "id": "5f86d023",
   "metadata": {},
   "source": [
    "## Feature Extraction With PCA"
   ]
  },
  {
   "cell_type": "code",
   "execution_count": 28,
   "id": "f4714c3e",
   "metadata": {},
   "outputs": [
    {
     "name": "stdout",
     "output_type": "stream",
     "text": [
      "Original shape: (88, 22500)\n",
      "Reduced shape: (88, 36)\n"
     ]
    }
   ],
   "source": [
    "# Flatten the images\n",
    "n_samples, h, w = images.shape\n",
    "images_flat = images.reshape(n_samples, h * w)\n",
    "\n",
    "# Apply PCA to reduce dimensionality\n",
    "pca = PCA(n_components=0.95, random_state=42)\n",
    "images_pca = pca.fit_transform(images_flat)\n",
    "\n",
    "print(f\"Original shape: {images_flat.shape}\")\n",
    "print(f\"Reduced shape: {images_pca.shape}\")\n"
   ]
  },
  {
   "cell_type": "markdown",
   "id": "a42e623c",
   "metadata": {},
   "source": [
    "## Building Random Forest Classifier"
   ]
  },
  {
   "cell_type": "code",
   "execution_count": 29,
   "id": "6a985d9b",
   "metadata": {},
   "outputs": [
    {
     "data": {
      "text/html": [
       "<style>#sk-container-id-2 {color: black;background-color: white;}#sk-container-id-2 pre{padding: 0;}#sk-container-id-2 div.sk-toggleable {background-color: white;}#sk-container-id-2 label.sk-toggleable__label {cursor: pointer;display: block;width: 100%;margin-bottom: 0;padding: 0.3em;box-sizing: border-box;text-align: center;}#sk-container-id-2 label.sk-toggleable__label-arrow:before {content: \"▸\";float: left;margin-right: 0.25em;color: #696969;}#sk-container-id-2 label.sk-toggleable__label-arrow:hover:before {color: black;}#sk-container-id-2 div.sk-estimator:hover label.sk-toggleable__label-arrow:before {color: black;}#sk-container-id-2 div.sk-toggleable__content {max-height: 0;max-width: 0;overflow: hidden;text-align: left;background-color: #f0f8ff;}#sk-container-id-2 div.sk-toggleable__content pre {margin: 0.2em;color: black;border-radius: 0.25em;background-color: #f0f8ff;}#sk-container-id-2 input.sk-toggleable__control:checked~div.sk-toggleable__content {max-height: 200px;max-width: 100%;overflow: auto;}#sk-container-id-2 input.sk-toggleable__control:checked~label.sk-toggleable__label-arrow:before {content: \"▾\";}#sk-container-id-2 div.sk-estimator input.sk-toggleable__control:checked~label.sk-toggleable__label {background-color: #d4ebff;}#sk-container-id-2 div.sk-label input.sk-toggleable__control:checked~label.sk-toggleable__label {background-color: #d4ebff;}#sk-container-id-2 input.sk-hidden--visually {border: 0;clip: rect(1px 1px 1px 1px);clip: rect(1px, 1px, 1px, 1px);height: 1px;margin: -1px;overflow: hidden;padding: 0;position: absolute;width: 1px;}#sk-container-id-2 div.sk-estimator {font-family: monospace;background-color: #f0f8ff;border: 1px dotted black;border-radius: 0.25em;box-sizing: border-box;margin-bottom: 0.5em;}#sk-container-id-2 div.sk-estimator:hover {background-color: #d4ebff;}#sk-container-id-2 div.sk-parallel-item::after {content: \"\";width: 100%;border-bottom: 1px solid gray;flex-grow: 1;}#sk-container-id-2 div.sk-label:hover label.sk-toggleable__label {background-color: #d4ebff;}#sk-container-id-2 div.sk-serial::before {content: \"\";position: absolute;border-left: 1px solid gray;box-sizing: border-box;top: 0;bottom: 0;left: 50%;z-index: 0;}#sk-container-id-2 div.sk-serial {display: flex;flex-direction: column;align-items: center;background-color: white;padding-right: 0.2em;padding-left: 0.2em;position: relative;}#sk-container-id-2 div.sk-item {position: relative;z-index: 1;}#sk-container-id-2 div.sk-parallel {display: flex;align-items: stretch;justify-content: center;background-color: white;position: relative;}#sk-container-id-2 div.sk-item::before, #sk-container-id-2 div.sk-parallel-item::before {content: \"\";position: absolute;border-left: 1px solid gray;box-sizing: border-box;top: 0;bottom: 0;left: 50%;z-index: -1;}#sk-container-id-2 div.sk-parallel-item {display: flex;flex-direction: column;z-index: 1;position: relative;background-color: white;}#sk-container-id-2 div.sk-parallel-item:first-child::after {align-self: flex-end;width: 50%;}#sk-container-id-2 div.sk-parallel-item:last-child::after {align-self: flex-start;width: 50%;}#sk-container-id-2 div.sk-parallel-item:only-child::after {width: 0;}#sk-container-id-2 div.sk-dashed-wrapped {border: 1px dashed gray;margin: 0 0.4em 0.5em 0.4em;box-sizing: border-box;padding-bottom: 0.4em;background-color: white;}#sk-container-id-2 div.sk-label label {font-family: monospace;font-weight: bold;display: inline-block;line-height: 1.2em;}#sk-container-id-2 div.sk-label-container {text-align: center;}#sk-container-id-2 div.sk-container {/* jupyter's `normalize.less` sets `[hidden] { display: none; }` but bootstrap.min.css set `[hidden] { display: none !important; }` so we also need the `!important` here to be able to override the default hidden behavior on the sphinx rendered scikit-learn.org. See: https://github.com/scikit-learn/scikit-learn/issues/21755 */display: inline-block !important;position: relative;}#sk-container-id-2 div.sk-text-repr-fallback {display: none;}</style><div id=\"sk-container-id-2\" class=\"sk-top-container\"><div class=\"sk-text-repr-fallback\"><pre>RandomForestClassifier(max_depth=10, n_estimators=200, random_state=42)</pre><b>In a Jupyter environment, please rerun this cell to show the HTML representation or trust the notebook. <br />On GitHub, the HTML representation is unable to render, please try loading this page with nbviewer.org.</b></div><div class=\"sk-container\" hidden><div class=\"sk-item\"><div class=\"sk-estimator sk-toggleable\"><input class=\"sk-toggleable__control sk-hidden--visually\" id=\"sk-estimator-id-2\" type=\"checkbox\" checked><label for=\"sk-estimator-id-2\" class=\"sk-toggleable__label sk-toggleable__label-arrow\">RandomForestClassifier</label><div class=\"sk-toggleable__content\"><pre>RandomForestClassifier(max_depth=10, n_estimators=200, random_state=42)</pre></div></div></div></div></div>"
      ],
      "text/plain": [
       "RandomForestClassifier(max_depth=10, n_estimators=200, random_state=42)"
      ]
     },
     "execution_count": 29,
     "metadata": {},
     "output_type": "execute_result"
    }
   ],
   "source": [
    "rf_model = RandomForestClassifier(random_state=42)\n",
    "\n",
    "# Hyperparameter tuning using GridSearchCV\n",
    "param_grid = {\n",
    "    'n_estimators': [50, 100, 200],\n",
    "    'max_depth': [10, 20, 30],\n",
    "    'min_samples_split': [2, 5, 10]\n",
    "}\n",
    "\n",
    "grid_search = GridSearchCV(rf_model, param_grid, cv=5, scoring='accuracy')\n",
    "grid_search.fit(X_train, y_train)\n",
    "\n",
    "# Best model after tuning\n",
    "best_rf_model = grid_search.best_estimator_\n",
    "\n",
    "# Train the best model\n",
    "best_rf_model.fit(X_train, y_train)\n"
   ]
  },
  {
   "cell_type": "markdown",
   "id": "e46cf795",
   "metadata": {},
   "source": [
    "## Adding Prediction Functionality"
   ]
  },
  {
   "cell_type": "code",
   "execution_count": 35,
   "id": "2d37556f",
   "metadata": {},
   "outputs": [
    {
     "name": "stdout",
     "output_type": "stream",
     "text": [
      "Please enter the full path to the chest X-ray image: C:\\Users\\hp\\Desktop\\Data Analysis\\Project 2\\Dataset\\healthy chest x ray images\\chest-xray-260nw-471542198.jpg\n",
      "The model predicts: Healthy (No Pneumonia)\n"
     ]
    }
   ],
   "source": [
    "# Load the trained model\n",
    "model = joblib.load(joblib_filename)\n",
    "\n",
    "# Function to preprocess and predict pneumonia from a new image\n",
    "def predict_pneumonia(model, pca):\n",
    "    img_path = input(\"Please enter the full path to the chest X-ray image: \")\n",
    "\n",
    "    try:\n",
    "        img_array = cv2.imread(img_path, cv2.IMREAD_GRAYSCALE)  # Load image as grayscale\n",
    "        if img_array is None:\n",
    "            raise ValueError(\"Image not found or invalid image format.\")\n",
    "        \n",
    "        resized_img = cv2.resize(img_array, (150, 150))  # Resize to match the training input size\n",
    "        normalized_img = resized_img / 255.0  # Normalize the image\n",
    "        flattened_img = normalized_img.flatten().reshape(1, -1)  # Flatten and reshape for model input\n",
    "\n",
    "        # Apply PCA to the new image\n",
    "        img_pca = pca.transform(flattened_img)\n",
    "\n",
    "        # Make a prediction\n",
    "        prediction = model.predict(img_pca)\n",
    "\n",
    "        # Interpret the prediction\n",
    "        if prediction[0] == 0:\n",
    "            return \"Healthy (No Pneumonia)\"\n",
    "        else:\n",
    "            return \"Pneumonia\"\n",
    "    except Exception as e:\n",
    "        return f\"Error: {e}\"\n",
    "\n",
    "# Example usage\n",
    "result = predict_pneumonia(model, pca)\n",
    "print(f\"The model predicts: {result}\")\n"
   ]
  },
  {
   "cell_type": "markdown",
   "id": "3fed1152",
   "metadata": {},
   "source": [
    "## Model Evaluation"
   ]
  },
  {
   "cell_type": "code",
   "execution_count": 31,
   "id": "44646db5",
   "metadata": {},
   "outputs": [
    {
     "name": "stdout",
     "output_type": "stream",
     "text": [
      "Accuracy: 0.8333333333333334\n",
      "Confusion Matrix:\n",
      " [[8 0]\n",
      " [3 7]]\n",
      "Classification Report:\n",
      "               precision    recall  f1-score   support\n",
      "\n",
      "           0       0.73      1.00      0.84         8\n",
      "           1       1.00      0.70      0.82        10\n",
      "\n",
      "    accuracy                           0.83        18\n",
      "   macro avg       0.86      0.85      0.83        18\n",
      "weighted avg       0.88      0.83      0.83        18\n",
      "\n"
     ]
    }
   ],
   "source": [
    "y_pred = best_rf_model.predict(X_test)\n",
    "\n",
    "print(\"Accuracy:\", accuracy_score(y_test, y_pred))\n",
    "print(\"Confusion Matrix:\\n\", confusion_matrix(y_test, y_pred))\n",
    "print(\"Classification Report:\\n\", classification_report(y_test, y_pred))\n"
   ]
  },
  {
   "cell_type": "markdown",
   "id": "0c4f3515",
   "metadata": {},
   "source": [
    "## Saving the model with joblib and pickle"
   ]
  },
  {
   "cell_type": "code",
   "execution_count": 32,
   "id": "1109dc68",
   "metadata": {},
   "outputs": [],
   "source": [
    "# Save the model using joblib\n",
    "joblib_filename = 'pneumonia_detection_rf_model_joblib.pkl'\n",
    "joblib.dump(best_rf_model, joblib_filename)\n",
    "\n",
    "# Save the model using pickle\n",
    "pickle_filename = 'pneumonia_detection_rf_model_pickle.pkl'\n",
    "with open(pickle_filename, 'wb') as file:\n",
    "    pickle.dump(best_rf_model, file)\n"
   ]
  },
  {
   "cell_type": "markdown",
   "id": "f2903cf2",
   "metadata": {},
   "source": [
    "## Loading the model"
   ]
  },
  {
   "cell_type": "code",
   "execution_count": 33,
   "id": "887b6c3c",
   "metadata": {},
   "outputs": [
    {
     "name": "stdout",
     "output_type": "stream",
     "text": [
      "Joblib Model Accuracy: 0.8333333333333334\n",
      "Pickle Model Accuracy: 0.8333333333333334\n"
     ]
    }
   ],
   "source": [
    "# Load the model using joblib\n",
    "loaded_model_joblib = joblib.load(joblib_filename)\n",
    "y_loaded_pred_joblib = loaded_model_joblib.predict(X_test)\n",
    "print(\"Joblib Model Accuracy:\", accuracy_score(y_test, y_loaded_pred_joblib))\n",
    "\n",
    "# Load the model using pickle\n",
    "with open(pickle_filename, 'rb') as file:\n",
    "    loaded_model_pickle = pickle.load(file)\n",
    "y_loaded_pred_pickle = loaded_model_pickle.predict(X_test)\n",
    "print(\"Pickle Model Accuracy:\", accuracy_score(y_test, y_loaded_pred_pickle))\n"
   ]
  },
  {
   "cell_type": "markdown",
   "id": "7767c498",
   "metadata": {},
   "source": [
    "## Vizualizing the results"
   ]
  },
  {
   "cell_type": "code",
   "execution_count": 34,
   "id": "317b8ed8",
   "metadata": {},
   "outputs": [
    {
     "data": {
      "image/png": "[encoded data removed]",
      "text/plain": [
       "<Figure size 1000x800 with 1 Axes>"
      ]
     },
     "metadata": {},
     "output_type": "display_data"
    }
   ],
   "source": [
    "# Plot feature importance\n",
    "importances = best_rf_model.feature_importances_\n",
    "indices = np.argsort(importances)[-20:]  # top 20 features\n",
    "\n",
    "plt.figure(figsize=(10, 8))\n",
    "plt.title(\"Feature Importances (Top 20)\")\n",
    "plt.barh(range(len(indices)), importances[indices], align=\"center\")\n",
    "plt.yticks(range(len(indices)), indices)\n",
    "plt.xlabel(\"Importance\")\n",
    "plt.show()\n"
   ]
  },
  {
   "cell_type": "code",
   "execution_count": null,
   "id": "28dff7d0",
   "metadata": {},
   "outputs": [],
   "source": []
  }
 ],
 "metadata": {
  "kernelspec": {
   "display_name": "Python 3 (ipykernel)",
   "language": "python",
   "name": "python3"
  },
  "language_info": {
   "codemirror_mode": {
    "name": "ipython",
    "version": 3
   },
   "file_extension": ".py",
   "mimetype": "text/x-python",
   "name": "python",
   "nbconvert_exporter": "python",
   "pygments_lexer": "ipython3",
   "version": "3.11.3"
  }
 },
 "nbformat": 4,
 "nbformat_minor": 5
}
